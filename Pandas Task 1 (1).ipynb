{
 "cells": [
  {
   "cell_type": "markdown",
   "id": "e1c423e2",
   "metadata": {},
   "source": [
    "## pandas series\n"
   ]
  },
  {
   "cell_type": "code",
   "execution_count": 1,
   "id": "69bd3e15",
   "metadata": {},
   "outputs": [],
   "source": [
    "import pandas as pd\n"
   ]
  },
  {
   "cell_type": "code",
   "execution_count": 2,
   "id": "0d0d034a",
   "metadata": {},
   "outputs": [],
   "source": [
    "import numpy as np"
   ]
  },
  {
   "cell_type": "markdown",
   "id": "f723255e",
   "metadata": {},
   "source": [
    "## 1.Create pandas series with different data types in different ways\n"
   ]
  },
  {
   "cell_type": "code",
   "execution_count": 3,
   "id": "336b463b",
   "metadata": {},
   "outputs": [
    {
     "data": {
      "text/plain": [
       "0    40.0\n",
       "1    41.0\n",
       "2    42.0\n",
       "3    43.0\n",
       "4    44.0\n",
       "5    45.0\n",
       "6    46.0\n",
       "7    47.0\n",
       "8    48.0\n",
       "9    49.0\n",
       "dtype: float16"
      ]
     },
     "execution_count": 3,
     "metadata": {},
     "output_type": "execute_result"
    }
   ],
   "source": [
    "# list  \n",
    "\n",
    "numbers = list(range(40,50))\n",
    "numbers = pd.Series(numbers,dtype = \"float16\")\n",
    "numbers"
   ]
  },
  {
   "cell_type": "code",
   "execution_count": 4,
   "id": "633fbfb3",
   "metadata": {},
   "outputs": [
    {
     "data": {
      "text/plain": [
       "0    orange\n",
       "1     mango\n",
       "2     apple\n",
       "3      kiwi\n",
       "dtype: object"
      ]
     },
     "execution_count": 4,
     "metadata": {},
     "output_type": "execute_result"
    }
   ],
   "source": [
    "# tuple\n",
    "\n",
    "fruits = (\"orange\",\"mango\",\"apple\",\"kiwi\")\n",
    "fruits = pd.Series(fruits,dtype = \"object\")\n",
    "fruits"
   ]
  },
  {
   "cell_type": "code",
   "execution_count": 5,
   "id": "c2798c52",
   "metadata": {},
   "outputs": [
    {
     "data": {
      "text/plain": [
       "1     39\n",
       "2     37\n",
       "3     20\n",
       "4     32\n",
       "5     32\n",
       "6     33\n",
       "7     10\n",
       "8     29\n",
       "9     11\n",
       "10    35\n",
       "dtype: int8"
      ]
     },
     "execution_count": 5,
     "metadata": {},
     "output_type": "execute_result"
    }
   ],
   "source": [
    "# array\n",
    "\n",
    "ages = np.random.randint(10,40,10)\n",
    "ages = pd.Series(ages,index = list(range(1,11)),dtype = \"int8\")\n",
    "ages"
   ]
  },
  {
   "cell_type": "code",
   "execution_count": 6,
   "id": "f88f00d9",
   "metadata": {},
   "outputs": [
    {
     "data": {
      "text/plain": [
       "1       jasmin\n",
       "2        lotus\n",
       "3         rose\n",
       "4    whiterose\n",
       "dtype: object"
      ]
     },
     "execution_count": 6,
     "metadata": {},
     "output_type": "execute_result"
    }
   ],
   "source": [
    "# dictionary\n",
    "\n",
    "flowers = {1:\"jasmin\",2:\"lotus\",3:\"rose\",4:\"whiterose\"}\n",
    "flowers = pd.Series(flowers)\n",
    "flowers"
   ]
  },
  {
   "cell_type": "markdown",
   "id": "967da1ea",
   "metadata": {},
   "source": [
    "## 2.Find the attributes of Series of [10,30,40,1,3,6,14,18,23] with index starts from 100"
   ]
  },
  {
   "cell_type": "code",
   "execution_count": 7,
   "id": "840928d6",
   "metadata": {},
   "outputs": [
    {
     "data": {
      "text/plain": [
       "100    10\n",
       "101    30\n",
       "102    40\n",
       "103     1\n",
       "104     3\n",
       "105     6\n",
       "106    14\n",
       "107    18\n",
       "108    23\n",
       "dtype: int8"
      ]
     },
     "execution_count": 7,
     "metadata": {},
     "output_type": "execute_result"
    }
   ],
   "source": [
    "list1 = [10,30,40,1,3,6,14,18,23]\n",
    "list2 = pd.Series(list1,index = list(range(100,109)),dtype = \"int8\")\n",
    "list2"
   ]
  },
  {
   "cell_type": "code",
   "execution_count": 8,
   "id": "15e96b1f",
   "metadata": {},
   "outputs": [
    {
     "data": {
      "text/plain": [
       "100    10\n",
       "101    30\n",
       "102    40\n",
       "103     1\n",
       "104     3\n",
       "dtype: int8"
      ]
     },
     "execution_count": 8,
     "metadata": {},
     "output_type": "execute_result"
    }
   ],
   "source": [
    "list2.head()  # by default return first 5 values"
   ]
  },
  {
   "cell_type": "code",
   "execution_count": 9,
   "id": "0d3e550c",
   "metadata": {},
   "outputs": [
    {
     "data": {
      "text/plain": [
       "104     3\n",
       "105     6\n",
       "106    14\n",
       "107    18\n",
       "108    23\n",
       "dtype: int8"
      ]
     },
     "execution_count": 9,
     "metadata": {},
     "output_type": "execute_result"
    }
   ],
   "source": [
    "list2.tail()  # by default last 5 values"
   ]
  },
  {
   "cell_type": "code",
   "execution_count": 10,
   "id": "4be28689",
   "metadata": {},
   "outputs": [
    {
     "name": "stdout",
     "output_type": "stream",
     "text": [
      "<class 'pandas.core.series.Series'>\n",
      "Index: 9 entries, 100 to 108\n",
      "Series name: None\n",
      "Non-Null Count  Dtype\n",
      "--------------  -----\n",
      "9 non-null      int8 \n",
      "dtypes: int8(1)\n",
      "memory usage: 81.0 bytes\n"
     ]
    }
   ],
   "source": [
    "list2.info()  # it gives information of data"
   ]
  },
  {
   "cell_type": "code",
   "execution_count": 12,
   "id": "3a14affe",
   "metadata": {},
   "outputs": [
    {
     "data": {
      "text/plain": [
       "count     9.000000\n",
       "mean     16.111111\n",
       "std      13.033078\n",
       "min       1.000000\n",
       "25%       6.000000\n",
       "50%      14.000000\n",
       "75%      23.000000\n",
       "max      40.000000\n",
       "dtype: float64"
      ]
     },
     "execution_count": 12,
     "metadata": {},
     "output_type": "execute_result"
    }
   ],
   "source": [
    "list2.describe()  # gives all descriptive statistics"
   ]
  },
  {
   "cell_type": "code",
   "execution_count": 13,
   "id": "86462c33",
   "metadata": {},
   "outputs": [
    {
     "data": {
      "text/plain": [
       "100    10\n",
       "101    30\n",
       "102    40\n",
       "103     1\n",
       "104     3\n",
       "105     6\n",
       "106    14\n",
       "107    18\n",
       "108    23\n",
       "dtype: int16"
      ]
     },
     "execution_count": 13,
     "metadata": {},
     "output_type": "execute_result"
    }
   ],
   "source": [
    "list2.astype(\"int16\")  # change the data type"
   ]
  },
  {
   "cell_type": "code",
   "execution_count": 14,
   "id": "7e40f06e",
   "metadata": {},
   "outputs": [
    {
     "data": {
      "text/plain": [
       "9"
      ]
     },
     "execution_count": 14,
     "metadata": {},
     "output_type": "execute_result"
    }
   ],
   "source": [
    "list2.size  # no.of elements"
   ]
  },
  {
   "cell_type": "code",
   "execution_count": 15,
   "id": "30e5b2ee",
   "metadata": {},
   "outputs": [
    {
     "data": {
      "text/plain": [
       "1"
      ]
     },
     "execution_count": 15,
     "metadata": {},
     "output_type": "execute_result"
    }
   ],
   "source": [
    "list2.ndim  # dimension"
   ]
  },
  {
   "cell_type": "code",
   "execution_count": 16,
   "id": "379e6a2b",
   "metadata": {},
   "outputs": [
    {
     "data": {
      "text/plain": [
       "9"
      ]
     },
     "execution_count": 16,
     "metadata": {},
     "output_type": "execute_result"
    }
   ],
   "source": [
    "list2.nbytes  # memory occupied by array"
   ]
  },
  {
   "cell_type": "code",
   "execution_count": 17,
   "id": "6cc07714",
   "metadata": {},
   "outputs": [
    {
     "data": {
      "text/plain": [
       "<bound method Series.items of 100    10\n",
       "101    30\n",
       "102    40\n",
       "103     1\n",
       "104     3\n",
       "105     6\n",
       "106    14\n",
       "107    18\n",
       "108    23\n",
       "dtype: int8>"
      ]
     },
     "execution_count": 17,
     "metadata": {},
     "output_type": "execute_result"
    }
   ],
   "source": [
    "list2.items # total items"
   ]
  },
  {
   "cell_type": "markdown",
   "id": "71427ea6",
   "metadata": {},
   "source": [
    "## 3.create salaries of 30 employee salaries randomly from 30000-90000 then measure and describe the data using pandas series"
   ]
  },
  {
   "cell_type": "code",
   "execution_count": 18,
   "id": "d10f852e",
   "metadata": {},
   "outputs": [
    {
     "data": {
      "text/plain": [
       "array([41027, 31980, 47379, 65080, 65142, 73798, 88781, 74059, 76934,\n",
       "       60733, 42922, 45121, 71880, 82692, 52002, 67452, 65550, 85957,\n",
       "       41406, 73572, 63727, 80836, 85539, 84983, 55147, 45540, 70217,\n",
       "       54195, 69030, 37850])"
      ]
     },
     "execution_count": 18,
     "metadata": {},
     "output_type": "execute_result"
    }
   ],
   "source": [
    "salaries = np.random.randint(30000,90000,30)\n",
    "salaries"
   ]
  },
  {
   "cell_type": "code",
   "execution_count": 19,
   "id": "bb4fed04",
   "metadata": {},
   "outputs": [
    {
     "data": {
      "text/plain": [
       "0     41027\n",
       "1     31980\n",
       "2     47379\n",
       "3     65080\n",
       "4     65142\n",
       "5     73798\n",
       "6     88781\n",
       "7     74059\n",
       "8     76934\n",
       "9     60733\n",
       "10    42922\n",
       "11    45121\n",
       "12    71880\n",
       "13    82692\n",
       "14    52002\n",
       "15    67452\n",
       "16    65550\n",
       "17    85957\n",
       "18    41406\n",
       "19    73572\n",
       "20    63727\n",
       "21    80836\n",
       "22    85539\n",
       "23    84983\n",
       "24    55147\n",
       "25    45540\n",
       "26    70217\n",
       "27    54195\n",
       "28    69030\n",
       "29    37850\n",
       "dtype: int32"
      ]
     },
     "execution_count": 19,
     "metadata": {},
     "output_type": "execute_result"
    }
   ],
   "source": [
    "salary = pd.Series(salaries)\n",
    "salary"
   ]
  },
  {
   "cell_type": "code",
   "execution_count": 20,
   "id": "4e3f96ad",
   "metadata": {},
   "outputs": [
    {
     "data": {
      "text/plain": [
       "63351.03333333333"
      ]
     },
     "execution_count": 20,
     "metadata": {},
     "output_type": "execute_result"
    }
   ],
   "source": [
    "salary.mean()  # mean"
   ]
  },
  {
   "cell_type": "code",
   "execution_count": 21,
   "id": "c521cc02",
   "metadata": {},
   "outputs": [
    {
     "data": {
      "text/plain": [
       "65346.0"
      ]
     },
     "execution_count": 21,
     "metadata": {},
     "output_type": "execute_result"
    }
   ],
   "source": [
    "salary.median()  # median --- middle most value"
   ]
  },
  {
   "cell_type": "code",
   "execution_count": 24,
   "id": "ed80b9ad",
   "metadata": {},
   "outputs": [
    {
     "data": {
      "text/plain": [
       "0     31980\n",
       "1     37850\n",
       "2     41027\n",
       "3     41406\n",
       "4     42922\n",
       "5     45121\n",
       "6     45540\n",
       "7     47379\n",
       "8     52002\n",
       "9     54195\n",
       "10    55147\n",
       "11    60733\n",
       "12    63727\n",
       "13    65080\n",
       "14    65142\n",
       "15    65550\n",
       "16    67452\n",
       "17    69030\n",
       "18    70217\n",
       "19    71880\n",
       "20    73572\n",
       "21    73798\n",
       "22    74059\n",
       "23    76934\n",
       "24    80836\n",
       "25    82692\n",
       "26    84983\n",
       "27    85539\n",
       "28    85957\n",
       "29    88781\n",
       "dtype: int32"
      ]
     },
     "execution_count": 24,
     "metadata": {},
     "output_type": "execute_result"
    }
   ],
   "source": [
    "salary.mode()  # mode -- there is no repitative values"
   ]
  },
  {
   "cell_type": "code",
   "execution_count": 25,
   "id": "4d56a410",
   "metadata": {},
   "outputs": [
    {
     "data": {
      "text/plain": [
       "88781"
      ]
     },
     "execution_count": 25,
     "metadata": {},
     "output_type": "execute_result"
    }
   ],
   "source": [
    "salary.max()  # maximum value"
   ]
  },
  {
   "cell_type": "code",
   "execution_count": 26,
   "id": "8bc63493",
   "metadata": {},
   "outputs": [
    {
     "data": {
      "text/plain": [
       "31980"
      ]
     },
     "execution_count": 26,
     "metadata": {},
     "output_type": "execute_result"
    }
   ],
   "source": [
    "salary.min()  # minimum value"
   ]
  },
  {
   "cell_type": "code",
   "execution_count": 27,
   "id": "55c47566",
   "metadata": {},
   "outputs": [
    {
     "data": {
      "text/plain": [
       "265994935.06781605"
      ]
     },
     "execution_count": 27,
     "metadata": {},
     "output_type": "execute_result"
    }
   ],
   "source": [
    "salary.var()  # variance"
   ]
  },
  {
   "cell_type": "code",
   "execution_count": 28,
   "id": "43c78111",
   "metadata": {},
   "outputs": [
    {
     "data": {
      "text/plain": [
       "16309.35115410224"
      ]
     },
     "execution_count": 28,
     "metadata": {},
     "output_type": "execute_result"
    }
   ],
   "source": [
    "salary.std() # standard deviation"
   ]
  },
  {
   "cell_type": "code",
   "execution_count": 29,
   "id": "2f29dddd",
   "metadata": {},
   "outputs": [
    {
     "data": {
      "text/plain": [
       "48534.75"
      ]
     },
     "execution_count": 29,
     "metadata": {},
     "output_type": "execute_result"
    }
   ],
   "source": [
    "salary.quantile(0.25)  # quantile -- 25"
   ]
  },
  {
   "cell_type": "code",
   "execution_count": 30,
   "id": "8886141d",
   "metadata": {},
   "outputs": [
    {
     "data": {
      "text/plain": [
       "73993.75"
      ]
     },
     "execution_count": 30,
     "metadata": {},
     "output_type": "execute_result"
    }
   ],
   "source": [
    "salary.quantile(0.75)  # quantile --- 75"
   ]
  },
  {
   "cell_type": "markdown",
   "id": "da7cb4e1",
   "metadata": {},
   "source": [
    "## 4.What are the similaraties and differences between pandas series and nnumpy array.Prove it with code."
   ]
  },
  {
   "cell_type": "markdown",
   "id": "6aa7ba70",
   "metadata": {},
   "source": [
    "series --- index base\n",
    "np.array --- not an indexed based"
   ]
  },
  {
   "cell_type": "code",
   "execution_count": 33,
   "id": "8af8be7d",
   "metadata": {},
   "outputs": [
    {
     "data": {
      "text/plain": [
       "array([30334, 61909, 47440, 50288, 33445, 75323, 65191, 71523, 78537,\n",
       "       32742, 30762, 64961, 34712, 48500, 49463, 37232, 47761, 43371,\n",
       "       39461, 34879, 82343, 77627, 83184, 34301, 42747, 85566, 60098,\n",
       "       80589, 82339, 72848])"
      ]
     },
     "execution_count": 33,
     "metadata": {},
     "output_type": "execute_result"
    }
   ],
   "source": [
    "salarie = np.random.randint(30000,90000,30)  # np.array ---it doesnot follow index\n",
    "salarie"
   ]
  },
  {
   "cell_type": "code",
   "execution_count": 34,
   "id": "02f9d5f5",
   "metadata": {},
   "outputs": [
    {
     "data": {
      "text/plain": [
       "0     30334\n",
       "1     61909\n",
       "2     47440\n",
       "3     50288\n",
       "4     33445\n",
       "5     75323\n",
       "6     65191\n",
       "7     71523\n",
       "8     78537\n",
       "9     32742\n",
       "10    30762\n",
       "11    64961\n",
       "12    34712\n",
       "13    48500\n",
       "14    49463\n",
       "15    37232\n",
       "16    47761\n",
       "17    43371\n",
       "18    39461\n",
       "19    34879\n",
       "20    82343\n",
       "21    77627\n",
       "22    83184\n",
       "23    34301\n",
       "24    42747\n",
       "25    85566\n",
       "26    60098\n",
       "27    80589\n",
       "28    82339\n",
       "29    72848\n",
       "dtype: int32"
      ]
     },
     "execution_count": 34,
     "metadata": {},
     "output_type": "execute_result"
    }
   ],
   "source": [
    "salaries = pd.Series(salarie)  # series --- follows index\n",
    "salaries"
   ]
  },
  {
   "cell_type": "markdown",
   "id": "728ca339",
   "metadata": {},
   "source": [
    "## 5.create pandas series with ranges from 100 to 150 then apply indexing and slicing on it"
   ]
  },
  {
   "cell_type": "code",
   "execution_count": 36,
   "id": "dcfb1736",
   "metadata": {},
   "outputs": [
    {
     "data": {
      "text/plain": [
       "0     100\n",
       "1     101\n",
       "2     102\n",
       "3     103\n",
       "4     104\n",
       "5     105\n",
       "6     106\n",
       "7     107\n",
       "8     108\n",
       "9     109\n",
       "10    110\n",
       "11    111\n",
       "12    112\n",
       "13    113\n",
       "14    114\n",
       "15    115\n",
       "16    116\n",
       "17    117\n",
       "18    118\n",
       "19    119\n",
       "20    120\n",
       "21    121\n",
       "22    122\n",
       "23    123\n",
       "24    124\n",
       "25    125\n",
       "26    126\n",
       "27    127\n",
       "28    128\n",
       "29    129\n",
       "30    130\n",
       "31    131\n",
       "32    132\n",
       "33    133\n",
       "34    134\n",
       "35    135\n",
       "36    136\n",
       "37    137\n",
       "38    138\n",
       "39    139\n",
       "40    140\n",
       "41    141\n",
       "42    142\n",
       "43    143\n",
       "44    144\n",
       "45    145\n",
       "46    146\n",
       "47    147\n",
       "48    148\n",
       "49    149\n",
       "dtype: int64"
      ]
     },
     "execution_count": 36,
     "metadata": {},
     "output_type": "execute_result"
    }
   ],
   "source": [
    "series = list(range(100,150))\n",
    "series = pd.Series(series)\n",
    "series"
   ]
  },
  {
   "cell_type": "code",
   "execution_count": 37,
   "id": "734bd4e4",
   "metadata": {},
   "outputs": [
    {
     "data": {
      "text/plain": [
       "100"
      ]
     },
     "execution_count": 37,
     "metadata": {},
     "output_type": "execute_result"
    }
   ],
   "source": [
    "series[0]   # indexing"
   ]
  },
  {
   "cell_type": "code",
   "execution_count": 38,
   "id": "ea8d3f19",
   "metadata": {},
   "outputs": [
    {
     "data": {
      "text/plain": [
       "0    100\n",
       "1    101\n",
       "2    102\n",
       "3    103\n",
       "4    104\n",
       "5    105\n",
       "6    106\n",
       "7    107\n",
       "8    108\n",
       "9    109\n",
       "dtype: int64"
      ]
     },
     "execution_count": 38,
     "metadata": {},
     "output_type": "execute_result"
    }
   ],
   "source": [
    "series[0:10] # slicing"
   ]
  },
  {
   "cell_type": "code",
   "execution_count": null,
   "id": "49fc399f",
   "metadata": {},
   "outputs": [],
   "source": []
  }
 ],
 "metadata": {
  "kernelspec": {
   "display_name": "Python 3 (ipykernel)",
   "language": "python",
   "name": "python3"
  },
  "language_info": {
   "codemirror_mode": {
    "name": "ipython",
    "version": 3
   },
   "file_extension": ".py",
   "mimetype": "text/x-python",
   "name": "python",
   "nbconvert_exporter": "python",
   "pygments_lexer": "ipython3",
   "version": "3.11.4"
  }
 },
 "nbformat": 4,
 "nbformat_minor": 5
}
